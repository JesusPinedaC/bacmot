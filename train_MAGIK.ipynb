{
 "cells": [
  {
   "cell_type": "code",
   "execution_count": null,
   "metadata": {},
   "outputs": [],
   "source": [
    "%matplotlib inline\n",
    "import sys\n",
    "sys.path.insert(0, \"../..\")"
   ]
  },
  {
   "cell_type": "markdown",
   "metadata": {},
   "source": [
    "# Example. Bacterial motility analysis using MAGIK"
   ]
  },
  {
   "cell_type": "markdown",
   "metadata": {},
   "source": [
    "## 1. Setup\n",
    "\n",
    "Imports the objects needed for this example."
   ]
  },
  {
   "cell_type": "code",
   "execution_count": 2,
   "metadata": {},
   "outputs": [
    {
     "name": "stderr",
     "output_type": "stream",
     "text": [
      "C:\\Users\\Jesus\\AppData\\Local\\Programs\\Python\\Python38\\lib\\site-packages\\cupy\\_environment.py:435: UserWarning: \n",
      "--------------------------------------------------------------------------------\n",
      "\n",
      "  CuPy may not function correctly because multiple CuPy packages are installed\n",
      "  in your environment:\n",
      "\n",
      "    cupy, cupy-cuda101\n",
      "\n",
      "  Follow these steps to resolve this issue:\n",
      "\n",
      "    1. For all packages listed above, run the following command to remove all\n",
      "       existing CuPy installations:\n",
      "\n",
      "         $ pip uninstall <package_name>\n",
      "\n",
      "      If you previously installed CuPy via conda, also run the following:\n",
      "\n",
      "         $ conda uninstall cupy\n",
      "\n",
      "    2. Install the appropriate CuPy package.\n",
      "       Refer to the Installation Guide for detailed instructions.\n",
      "\n",
      "         https://docs.cupy.dev/en/stable/install.html\n",
      "\n",
      "--------------------------------------------------------------------------------\n",
      "\n",
      "  warnings.warn(f'''\n"
     ]
    }
   ],
   "source": [
    "import deeptrack as dt\n",
    "from deeptrack.models.gnns.generators import GraphGenerator\n",
    "\n",
    "import tensorflow as tf\n",
    "\n",
    "import pandas as pd\n",
    "import numpy as np\n",
    "import scipy.io\n",
    "\n",
    "from deeptrack.extras import datasets\n",
    "\n",
    "import logging\n",
    "logging.disable(logging.WARNING)"
   ]
  },
  {
   "cell_type": "markdown",
   "metadata": {},
   "source": [
    "## 2. Overview\n",
    "\n",
    "In this example, we exemplify how to use [MAGIK](https://arxiv.org/abs/2202.06355) (Motion Analysis through GNN Inductive Knowledge) in its most natural application, trajectory linking. We will analyze bacterial motility experiments and address practical implications of using MAGIK."
   ]
  },
  {
   "cell_type": "markdown",
   "metadata": {},
   "source": [
    "## 2. Defining the dataset\n",
    "\n",
    "### 2.1 Defining the training set"
   ]
  },
  {
   "cell_type": "code",
   "execution_count": 4,
   "metadata": {},
   "outputs": [],
   "source": [
    "# read .mat file\n",
    "data = scipy.io.loadmat('datasets/training/EC1212_Si16.mat')"
   ]
  },
  {
   "cell_type": "markdown",
   "metadata": {},
   "source": [
    "Extract active particles´ trajectories from loaded data"
   ]
  },
  {
   "cell_type": "code",
   "execution_count": 5,
   "metadata": {},
   "outputs": [],
   "source": [
    "# y-coordinates\n",
    "ty = np.array(\n",
    "    data.get(\"Data\")[\"AtrajectoriesY_px\"][0][0].todense()\n",
    ")\n",
    "# x-coordinates\n",
    "tx = np.array(      \n",
    "    data.get(\"Data\")[\"AtrajectoriesX_px\"][0][0].todense()\n",
    ")"
   ]
  },
  {
   "cell_type": "markdown",
   "metadata": {},
   "source": [
    "Missing data is represented by NaN."
   ]
  },
  {
   "cell_type": "code",
   "execution_count": 6,
   "metadata": {},
   "outputs": [],
   "source": [
    "ty[ty == 0.0] = np.nan\n",
    "tx[tx == 0.0] = np.nan"
   ]
  },
  {
   "cell_type": "markdown",
   "metadata": {},
   "source": [
    "Split broken trajectories into separate sub-trajectories."
   ]
  },
  {
   "cell_type": "code",
   "execution_count": 7,
   "metadata": {},
   "outputs": [],
   "source": [
    "ty = list(ty)\n",
    "tx = list(tx)\n",
    "\n",
    "def split(a):\n",
    "    return [a[s] for s in np.ma.clump_unmasked(np.ma.masked_invalid(a))]   \n",
    "\n",
    "tr_y, tr_x = [], []\n",
    "for _tx, _ty in zip(tx, ty):\n",
    "    if (\n",
    "        (np.count_nonzero(~np.isnan(_tx)) >= 25)\n",
    "        and (np.diff(np.quantile(_tx[~np.isnan(_tx)], [0.01, 0.99])) > 8)\n",
    "        and (np.diff(np.quantile(_ty[~np.isnan(_ty)], [0.01, 0.99])) > 8)\n",
    "    ):\n",
    "        _tr_x = split(_tx)\n",
    "        _tr_y = split(_ty)\n",
    "\n",
    "        for t in range(len(_tr_x)):\n",
    "            tr_x.append(_tr_x[t])\n",
    "            tr_y.append(_tr_y[t])"
   ]
  },
  {
   "cell_type": "markdown",
   "metadata": {},
   "source": [
    "Filter out trajectories with less than 15 points."
   ]
  },
  {
   "cell_type": "code",
   "execution_count": 8,
   "metadata": {},
   "outputs": [],
   "source": [
    "tr_x = list(filter(lambda x: len(x) > 15, tr_x))\n",
    "tr_y = list(filter(lambda x: len(x) > 15, tr_y))"
   ]
  },
  {
   "cell_type": "markdown",
   "metadata": {},
   "source": [
    "MAGIK models the objects’ motion and physical interactions using a graph representation. Graphs can define arbitrary relational structures between nodes connecting them pairwise through edges. In MAGIK, each node describes an object detection at a specific time.\n",
    "\n",
    "Create the node dataframe from the training trajectories:"
   ]
  },
  {
   "cell_type": "code",
   "execution_count": 9,
   "metadata": {},
   "outputs": [],
   "source": [
    "nodesdf = []\n",
    "for label, (_tx, _ty) in enumerate(zip(tr_x, tr_y)):\n",
    "    df = pd.DataFrame(\n",
    "        np.concatenate(\n",
    "            [\n",
    "                np.arange(0, len(_tx))[..., np.newaxis],\n",
    "                np.expand_dims(_tx, -1),\n",
    "                np.expand_dims(_ty, -1),\n",
    "            ],\n",
    "            axis=1,\n",
    "        ),\n",
    "        columns=[\"frame\", \"centroid-x\", \"centroid-y\"],\n",
    "    )\n",
    "    df[\"label\"] = label\n",
    "    nodesdf.append(df)\n",
    "\n",
    "nodesdf = pd.concat(nodesdf)\n",
    "nodesdf = nodesdf.sort_values(by = 'frame').reset_index(drop=True)\n",
    "\n",
    "# normalize centroids between 0 and 1\n",
    "nodesdf.loc[:, nodesdf.columns.str.contains(\"centroid\")] = (\n",
    "    nodesdf.loc[:, nodesdf.columns.str.contains(\"centroid\")]\n",
    "    / np.array([1000.0, 1000.0])\n",
    ")\n",
    "\n",
    "nodesdf[[\"solution\", \"set\"]] = 0.0\n",
    "nodesdf = nodesdf.astype({'frame': 'int', 'set': 'int'})"
   ]
  },
  {
   "cell_type": "markdown",
   "metadata": {},
   "source": [
    "Display the first 20 rows of the dataframe."
   ]
  },
  {
   "cell_type": "code",
   "execution_count": 10,
   "metadata": {},
   "outputs": [
    {
     "data": {
      "text/html": [
       "<div>\n",
       "<style scoped>\n",
       "    .dataframe tbody tr th:only-of-type {\n",
       "        vertical-align: middle;\n",
       "    }\n",
       "\n",
       "    .dataframe tbody tr th {\n",
       "        vertical-align: top;\n",
       "    }\n",
       "\n",
       "    .dataframe thead th {\n",
       "        text-align: right;\n",
       "    }\n",
       "</style>\n",
       "<table border=\"1\" class=\"dataframe\">\n",
       "  <thead>\n",
       "    <tr style=\"text-align: right;\">\n",
       "      <th></th>\n",
       "      <th>frame</th>\n",
       "      <th>centroid-x</th>\n",
       "      <th>centroid-y</th>\n",
       "      <th>label</th>\n",
       "      <th>solution</th>\n",
       "      <th>set</th>\n",
       "    </tr>\n",
       "  </thead>\n",
       "  <tbody>\n",
       "    <tr>\n",
       "      <th>0</th>\n",
       "      <td>0</td>\n",
       "      <td>0.324500</td>\n",
       "      <td>0.656706</td>\n",
       "      <td>0</td>\n",
       "      <td>0.0</td>\n",
       "      <td>0</td>\n",
       "    </tr>\n",
       "    <tr>\n",
       "      <th>1</th>\n",
       "      <td>0</td>\n",
       "      <td>0.246500</td>\n",
       "      <td>0.160500</td>\n",
       "      <td>122</td>\n",
       "      <td>0.0</td>\n",
       "      <td>0</td>\n",
       "    </tr>\n",
       "    <tr>\n",
       "      <th>2</th>\n",
       "      <td>0</td>\n",
       "      <td>0.721529</td>\n",
       "      <td>0.793569</td>\n",
       "      <td>25</td>\n",
       "      <td>0.0</td>\n",
       "      <td>0</td>\n",
       "    </tr>\n",
       "    <tr>\n",
       "      <th>3</th>\n",
       "      <td>0</td>\n",
       "      <td>0.353347</td>\n",
       "      <td>0.573347</td>\n",
       "      <td>123</td>\n",
       "      <td>0.0</td>\n",
       "      <td>0</td>\n",
       "    </tr>\n",
       "    <tr>\n",
       "      <th>4</th>\n",
       "      <td>0</td>\n",
       "      <td>0.932980</td>\n",
       "      <td>0.897157</td>\n",
       "      <td>124</td>\n",
       "      <td>0.0</td>\n",
       "      <td>0</td>\n",
       "    </tr>\n",
       "    <tr>\n",
       "      <th>5</th>\n",
       "      <td>0</td>\n",
       "      <td>0.713500</td>\n",
       "      <td>0.961000</td>\n",
       "      <td>125</td>\n",
       "      <td>0.0</td>\n",
       "      <td>0</td>\n",
       "    </tr>\n",
       "    <tr>\n",
       "      <th>6</th>\n",
       "      <td>0</td>\n",
       "      <td>0.460980</td>\n",
       "      <td>0.452118</td>\n",
       "      <td>24</td>\n",
       "      <td>0.0</td>\n",
       "      <td>0</td>\n",
       "    </tr>\n",
       "    <tr>\n",
       "      <th>7</th>\n",
       "      <td>0</td>\n",
       "      <td>0.553347</td>\n",
       "      <td>0.421347</td>\n",
       "      <td>121</td>\n",
       "      <td>0.0</td>\n",
       "      <td>0</td>\n",
       "    </tr>\n",
       "    <tr>\n",
       "      <th>8</th>\n",
       "      <td>0</td>\n",
       "      <td>0.355647</td>\n",
       "      <td>0.726824</td>\n",
       "      <td>126</td>\n",
       "      <td>0.0</td>\n",
       "      <td>0</td>\n",
       "    </tr>\n",
       "    <tr>\n",
       "      <th>9</th>\n",
       "      <td>0</td>\n",
       "      <td>0.735865</td>\n",
       "      <td>0.227904</td>\n",
       "      <td>127</td>\n",
       "      <td>0.0</td>\n",
       "      <td>0</td>\n",
       "    </tr>\n",
       "    <tr>\n",
       "      <th>10</th>\n",
       "      <td>0</td>\n",
       "      <td>0.369667</td>\n",
       "      <td>0.693875</td>\n",
       "      <td>22</td>\n",
       "      <td>0.0</td>\n",
       "      <td>0</td>\n",
       "    </tr>\n",
       "    <tr>\n",
       "      <th>11</th>\n",
       "      <td>0</td>\n",
       "      <td>0.251775</td>\n",
       "      <td>0.751150</td>\n",
       "      <td>128</td>\n",
       "      <td>0.0</td>\n",
       "      <td>0</td>\n",
       "    </tr>\n",
       "    <tr>\n",
       "      <th>12</th>\n",
       "      <td>0</td>\n",
       "      <td>0.369786</td>\n",
       "      <td>0.693357</td>\n",
       "      <td>21</td>\n",
       "      <td>0.0</td>\n",
       "      <td>0</td>\n",
       "    </tr>\n",
       "    <tr>\n",
       "      <th>13</th>\n",
       "      <td>0</td>\n",
       "      <td>0.370214</td>\n",
       "      <td>0.693500</td>\n",
       "      <td>20</td>\n",
       "      <td>0.0</td>\n",
       "      <td>0</td>\n",
       "    </tr>\n",
       "    <tr>\n",
       "      <th>14</th>\n",
       "      <td>0</td>\n",
       "      <td>0.369654</td>\n",
       "      <td>0.693346</td>\n",
       "      <td>19</td>\n",
       "      <td>0.0</td>\n",
       "      <td>0</td>\n",
       "    </tr>\n",
       "    <tr>\n",
       "      <th>15</th>\n",
       "      <td>0</td>\n",
       "      <td>0.383128</td>\n",
       "      <td>0.226872</td>\n",
       "      <td>23</td>\n",
       "      <td>0.0</td>\n",
       "      <td>0</td>\n",
       "    </tr>\n",
       "    <tr>\n",
       "      <th>16</th>\n",
       "      <td>0</td>\n",
       "      <td>0.315347</td>\n",
       "      <td>0.613347</td>\n",
       "      <td>120</td>\n",
       "      <td>0.0</td>\n",
       "      <td>0</td>\n",
       "    </tr>\n",
       "    <tr>\n",
       "      <th>17</th>\n",
       "      <td>0</td>\n",
       "      <td>0.803826</td>\n",
       "      <td>0.262500</td>\n",
       "      <td>119</td>\n",
       "      <td>0.0</td>\n",
       "      <td>0</td>\n",
       "    </tr>\n",
       "    <tr>\n",
       "      <th>18</th>\n",
       "      <td>0</td>\n",
       "      <td>0.911843</td>\n",
       "      <td>0.626176</td>\n",
       "      <td>26</td>\n",
       "      <td>0.0</td>\n",
       "      <td>0</td>\n",
       "    </tr>\n",
       "    <tr>\n",
       "      <th>19</th>\n",
       "      <td>0</td>\n",
       "      <td>0.922128</td>\n",
       "      <td>0.307872</td>\n",
       "      <td>107</td>\n",
       "      <td>0.0</td>\n",
       "      <td>0</td>\n",
       "    </tr>\n",
       "  </tbody>\n",
       "</table>\n",
       "</div>"
      ],
      "text/plain": [
       "    frame  centroid-x  centroid-y  label  solution  set\n",
       "0       0    0.324500    0.656706      0       0.0    0\n",
       "1       0    0.246500    0.160500    122       0.0    0\n",
       "2       0    0.721529    0.793569     25       0.0    0\n",
       "3       0    0.353347    0.573347    123       0.0    0\n",
       "4       0    0.932980    0.897157    124       0.0    0\n",
       "5       0    0.713500    0.961000    125       0.0    0\n",
       "6       0    0.460980    0.452118     24       0.0    0\n",
       "7       0    0.553347    0.421347    121       0.0    0\n",
       "8       0    0.355647    0.726824    126       0.0    0\n",
       "9       0    0.735865    0.227904    127       0.0    0\n",
       "10      0    0.369667    0.693875     22       0.0    0\n",
       "11      0    0.251775    0.751150    128       0.0    0\n",
       "12      0    0.369786    0.693357     21       0.0    0\n",
       "13      0    0.370214    0.693500     20       0.0    0\n",
       "14      0    0.369654    0.693346     19       0.0    0\n",
       "15      0    0.383128    0.226872     23       0.0    0\n",
       "16      0    0.315347    0.613347    120       0.0    0\n",
       "17      0    0.803826    0.262500    119       0.0    0\n",
       "18      0    0.911843    0.626176     26       0.0    0\n",
       "19      0    0.922128    0.307872    107       0.0    0"
      ]
     },
     "execution_count": 10,
     "metadata": {},
     "output_type": "execute_result"
    }
   ],
   "source": [
    "nodesdf.head(20)"
   ]
  },
  {
   "cell_type": "markdown",
   "metadata": {},
   "source": [
    "``nodesdf`` contains the following columns:\n",
    "\n",
    "- ``label``: cell label. Only used during training.\n",
    "\n",
    "- ``centroid-x``: x-centroid coordinate (normalized between 0 and 1).\n",
    "\n",
    "- ``centroid-y``: y-centroid coordinate (normalized between 0 and 1).\n",
    "\n",
    "- ``frame``: frame corresponding to the detection.\n",
    "\n",
    "- ``solution``: node ground truth (ignored). only used for node classification/regression tasks.\n",
    "\n",
    "- ``set``: Index of the video in the dataset. The first video in the dataset is set 0, the second is set 1, and so on. Useful if multiples videos are available.\n",
    "\n",
    "Importantly, There are no intrinsic restrictions on the type or number of descriptors (e.g., location and morphological features, image-based quantitiesn) that can be encoded in the node representation. \n",
    "In this example, we have only used the position of the object to train the model."
   ]
  },
  {
   "cell_type": "markdown",
   "metadata": {},
   "source": [
    "For object linking, the aim of MAGIK is to prune the wrong edges while retaining the true connections, i.e., an edge-classification problem with a binary label (linked/unlinked). We thus define:"
   ]
  },
  {
   "cell_type": "code",
   "execution_count": null,
   "metadata": {},
   "outputs": [],
   "source": [
    "# Output type\n",
    "_OUTPUT_TYPE = \"edges\""
   ]
  },
  {
   "cell_type": "markdown",
   "metadata": {},
   "source": [
    "In MAGIK, nodes are connected to spatio-temporal neighbors within a distance-based likelihood radius:"
   ]
  },
  {
   "cell_type": "code",
   "execution_count": null,
   "metadata": {},
   "outputs": [],
   "source": [
    "# Seach radius for the graph edges\n",
    "radius = 0.2"
   ]
  },
  {
   "cell_type": "markdown",
   "metadata": {},
   "source": [
    "Finally, Let's create a dummy feature to store our configuration for the graph generation process:"
   ]
  },
  {
   "cell_type": "code",
   "execution_count": null,
   "metadata": {},
   "outputs": [],
   "source": [
    "variables = dt.DummyFeature(\n",
    "    radius=radius,\n",
    "    output_type=_OUTPUT_TYPE,\n",
    "    nofframes=3, # time window to associate nodes (in frames) \n",
    ")"
   ]
  },
  {
   "cell_type": "markdown",
   "metadata": {},
   "source": [
    "## 3. Defining the network"
   ]
  },
  {
   "cell_type": "markdown",
   "metadata": {},
   "source": [
    "MAGIK is defined, with binary crossentropy as loss function."
   ]
  },
  {
   "cell_type": "code",
   "execution_count": null,
   "metadata": {},
   "outputs": [],
   "source": [
    "model = dt.models.gnns.MAGIK(\n",
    "    dense_layer_dimensions=(64, 96,),      # number of features in each dense encoder layer\n",
    "    base_layer_dimensions=(96, 96, 96),    # Latent dimension throughout the message passing layers\n",
    "    number_of_node_features=2,             # Number of node features in the graphs\n",
    "    number_of_edge_features=1,             # Number of edge features in the graphs\n",
    "    number_of_edge_outputs=1,              # Number of predicted features\n",
    "    edge_output_activation=\"sigmoid\",      # Activation function for the output layer\n",
    "    output_type=_OUTPUT_TYPE,              # Output type. Either \"edges\", \"nodes\", or \"graph\"\n",
    ")\n",
    "\n",
    "# Compile model\n",
    "model.compile(\n",
    "    optimizer=tf.keras.optimizers.Adam(learning_rate=0.001),\n",
    "    loss = 'binary_crossentropy',\n",
    "    metrics=['accuracy'],\n",
    ")\n",
    "\n",
    "model.summary()\n"
   ]
  },
  {
   "cell_type": "markdown",
   "metadata": {},
   "source": [
    "## 4. Training the network\n",
    "\n",
    "if ``_LOAD_MODEL`` is set to ``False``, we train the model using the BF-C2DL-MuSC dataset. `GraphGenerator` creates the graph representation from the detections and returns a continuous generator that asynchronously generates graphs during training."
   ]
  },
  {
   "cell_type": "code",
   "execution_count": null,
   "metadata": {},
   "outputs": [],
   "source": [
    "_LOAD_MODEL = False\n",
    "\n",
    "if _LOAD_MODEL:\n",
    "    print(\"Loading model...\")\n",
    "    model.load_weights(\"\")\n",
    "else:\n",
    "    generator = GraphGenerator(\n",
    "        nodesdf=nodesdf,\n",
    "        properties=[\"centroid\"],\n",
    "        min_data_size=511,\n",
    "        max_data_size=512,\n",
    "        batch_size=8,\n",
    "        **variables.properties()\n",
    "    )\n",
    "    \n",
    "    with generator:\n",
    "        model.fit(generator, epochs=10)"
   ]
  },
  {
   "cell_type": "markdown",
   "metadata": {},
   "source": [
    "## 5. Evaluating the network"
   ]
  },
  {
   "cell_type": "markdown",
   "metadata": {},
   "source": [
    "Now, let's download our dataset."
   ]
  },
  {
   "cell_type": "code",
   "execution_count": null,
   "metadata": {},
   "outputs": [],
   "source": [
    "# REPLACE BY TESTING DATA"
   ]
  },
  {
   "cell_type": "markdown",
   "metadata": {},
   "source": [
    "We previously detected the position of the cells in each frame of the dataset using LodeSTAR and stored them in ``test_nodesdf``:"
   ]
  },
  {
   "cell_type": "code",
   "execution_count": null,
   "metadata": {},
   "outputs": [],
   "source": [
    "test_nodesdf = # REPLACE BY TESTING DATA\n",
    "\n",
    "# display the first 20 rows of the dataframe\n",
    "test_nodesdf.head(20)"
   ]
  },
  {
   "cell_type": "markdown",
   "metadata": {},
   "source": [
    "Compute predictions for the test set:"
   ]
  },
  {
   "cell_type": "code",
   "execution_count": null,
   "metadata": {},
   "outputs": [],
   "source": [
    "pred, gt, scores, graph = dt.models.gnns.get_predictions(\n",
    "    test_nodesdf, [\"centroid\"], model, variables\n",
    ")"
   ]
  },
  {
   "cell_type": "markdown",
   "metadata": {},
   "source": [
    "Crate dataframe from results:"
   ]
  },
  {
   "cell_type": "code",
   "execution_count": null,
   "metadata": {},
   "outputs": [],
   "source": [
    "edges_df, nodes, _ = dt.models.gnns.df_from_results(pred, gt, scores, graph)\n",
    "\n",
    "# display the first 10 rows of the dataframe\n",
    "edges_df.head(10)"
   ]
  },
  {
   "cell_type": "markdown",
   "metadata": {},
   "source": [
    "Compute trajectories, and filter out trajectories less than 8 frames long:"
   ]
  },
  {
   "cell_type": "code",
   "execution_count": null,
   "metadata": {},
   "outputs": [],
   "source": [
    "# Get trajectories from results\n",
    "traj = dt.models.gnns.get_traj(edges_df, th = 8)"
   ]
  },
  {
   "cell_type": "markdown",
   "metadata": {},
   "source": [
    "Display results:"
   ]
  },
  {
   "cell_type": "code",
   "execution_count": null,
   "metadata": {},
   "outputs": [],
   "source": [
    "import glob\n",
    "import cv2\n",
    "\n",
    "import matplotlib.pyplot as plt\n",
    "\n",
    "frames = glob.glob(\"\")\n",
    "\n",
    "for f, frame in enumerate(frames):\n",
    "    img = cv2.imread(frame, -1)\n",
    "\n",
    "    fig = plt.figure(figsize=(10, 10))\n",
    "    plt.imshow(img)\n",
    "    plt.text(10, 40, \"Frame: \" + str(f), fontsize=20, c=\"white\")\n",
    "    plt.axis(\"off\")\n",
    "\n",
    "    for i, (t, c) in enumerate(traj):\n",
    "        detections = nodes[t][(nodes[t, 0] <= f) & (nodes[t, 0] >= f - 10), :]\n",
    "\n",
    "        if (len(detections) == 0) or (np.max(nodes[t, 0]) < f):\n",
    "            continue\n",
    "\n",
    "        plt.plot(detections[:, 2] * 1200, detections[:, 1] * 1200, color = c, linewidth=2)\n",
    "        plt.scatter(detections[-1, 2] * 1200, detections[-1, 1] * 1200, linewidths=1.5, c = c)\n",
    "    \n",
    "    plt.show()"
   ]
  }
 ],
 "metadata": {
  "interpreter": {
   "hash": "01eafbc03f398b6ef6f7e15c25a5eb102011900bf800f4c737450dda12208f9c"
  },
  "kernelspec": {
   "display_name": "Python 3.8.6 64-bit",
   "language": "python",
   "name": "python3"
  },
  "language_info": {
   "codemirror_mode": {
    "name": "ipython",
    "version": 3
   },
   "file_extension": ".py",
   "mimetype": "text/x-python",
   "name": "python",
   "nbconvert_exporter": "python",
   "pygments_lexer": "ipython3",
   "version": "3.8.6"
  },
  "orig_nbformat": 4
 },
 "nbformat": 4,
 "nbformat_minor": 2
}
